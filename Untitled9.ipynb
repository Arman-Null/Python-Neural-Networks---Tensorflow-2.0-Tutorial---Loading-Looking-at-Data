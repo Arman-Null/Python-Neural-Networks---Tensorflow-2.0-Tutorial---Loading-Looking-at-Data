{
 "cells": [
  {
   "cell_type": "markdown",
   "metadata": {},
   "source": [
    "# Python Neural Networks - Tensorflow 2.0 Tutorial - Loading & Looking at Data"
   ]
  },
  {
   "cell_type": "code",
   "execution_count": 2,
   "metadata": {},
   "outputs": [],
   "source": [
    "import tensorflow as tf\n",
    "from tensorflow import keras\n",
    "import numpy as np\n",
    "import matplotlib.pyplot as plt\n",
    "\n"
   ]
  },
  {
   "cell_type": "code",
   "execution_count": 4,
   "metadata": {},
   "outputs": [],
   "source": [
    "data= keras.datasets.fashion_mnist"
   ]
  },
  {
   "cell_type": "code",
   "execution_count": 5,
   "metadata": {},
   "outputs": [
    {
     "name": "stdout",
     "output_type": "stream",
     "text": [
      "Downloading data from https://storage.googleapis.com/tensorflow/tf-keras-datasets/train-labels-idx1-ubyte.gz\n",
      "32768/29515 [=================================] - 0s 2us/step\n",
      "Downloading data from https://storage.googleapis.com/tensorflow/tf-keras-datasets/train-images-idx3-ubyte.gz\n",
      "26427392/26421880 [==============================] - 3s 0us/step\n",
      "Downloading data from https://storage.googleapis.com/tensorflow/tf-keras-datasets/t10k-labels-idx1-ubyte.gz\n",
      "8192/5148 [===============================================] - 0s 0us/step\n",
      "Downloading data from https://storage.googleapis.com/tensorflow/tf-keras-datasets/t10k-images-idx3-ubyte.gz\n",
      "4423680/4422102 [==============================] - 1s 0us/step\n"
     ]
    }
   ],
   "source": [
    "(train_images,train_labels),(test_images, test_labels)=data.load_data()"
   ]
  },
  {
   "cell_type": "code",
   "execution_count": 6,
   "metadata": {},
   "outputs": [],
   "source": [
    "class_names = ['T-shirt/top', 'Trouser', 'Pullover', 'Dress', 'Coat',\n",
    "               'Sandal', 'Shirt', 'Sneaker', 'Bag', 'Ankle boot']"
   ]
  },
  {
   "cell_type": "code",
   "execution_count": 7,
   "metadata": {},
   "outputs": [
    {
     "data": {
      "text/plain": [
       "<matplotlib.image.AxesImage at 0x2747b4a52b0>"
      ]
     },
     "execution_count": 7,
     "metadata": {},
     "output_type": "execute_result"
    },
    {
     "data": {
      "image/png": "[encoded data removed]",
      "text/plain": [
       "<Figure size 432x288 with 1 Axes>"
      ]
     },
     "metadata": {
      "needs_background": "light"
     },
     "output_type": "display_data"
    }
   ],
   "source": [
    "plt.imshow(train_images[5])"
   ]
  },
  {
   "cell_type": "code",
   "execution_count": 8,
   "metadata": {},
   "outputs": [
    {
     "data": {
      "text/plain": [
       "<matplotlib.image.AxesImage at 0x2747b3717f0>"
      ]
     },
     "execution_count": 8,
     "metadata": {},
     "output_type": "execute_result"
    },
    {
     "data": {
      "image/png": "[encoded data removed]",
      "text/plain": [
       "<Figure size 432x288 with 1 Axes>"
      ]
     },
     "metadata": {
      "needs_background": "light"
     },
     "output_type": "display_data"
    }
   ],
   "source": [
    "plt.imshow(train_images[5], cmap=plt.cm.binary)"
   ]
  },
  {
   "cell_type": "code",
   "execution_count": 12,
   "metadata": {},
   "outputs": [
    {
     "name": "stdout",
     "output_type": "stream",
     "text": [
      "[[  0   0   0   0   1   0   0   0   0  22  88 188 172 132 125 141 199 143\n",
      "    9   0   0   0   1   0   0   0   0   0]\n",
      " [  0   0   0   1   0   0  20 131 199 206 196 202 242 255 255 250 222 197\n",
      "  206 188 126  17   0   0   0   0   0   0]\n",
      " [  0   0   0   1   0  35 214 191 183 178 175 168 150 162 159 152 158 179\n",
      "  183 189 195 185  82   0   0   0   0   0]\n",
      " [  0   0   0   0   0 170 190 172 177 176 171 169 162 155 148 154 169 174\n",
      "  175 175 177 183 188  12   0   0   0   0]\n",
      " [  0   0   0   0  25 194 180 178 174 184 187 189 187 184 181 189 200 197\n",
      "  193 190 178 175 194  90   0   0   0   0]\n",
      " [  0   0   0   0  42 218 191 197 208 204 211 209 210 212 211 214 215 213\n",
      "  214 211 211 191 200 158   0   0   0   0]\n",
      " [  0   0   0   0  88 221 215 217 219 211 185 150 118 107  99  88  83  90\n",
      "  135 212 203 207 219 169   0   0   0   0]\n",
      " [  0   0   0   0   0  27 118 162  40   0   0   0  10  19  28  39  47  36\n",
      "    0   0 203 230 220 203   0   0   0   0]\n",
      " [  0   0   0   0 138 136  71  69  54 216 217 203 184 168 163 162 163 178\n",
      "  221 186  38  26   7   0   0   0   0   0]\n",
      " [  0   0   0   0  67 134 154 224 129  66  81 117 129 128 132 137 131 129\n",
      "   86  73 157 151 134 216  18   0   0   0]\n",
      " [  0   0   0   0 203 198 172 183 206 255 255 250 243 240 239 235 238 244\n",
      "  255 238 184 160  86  98   0   0   0   0]\n",
      " [  0   0   0   0 122 188 224 151 105 127  97 100 105 114 117 117 113 103\n",
      "   98 111 142 254 191 255  49   0   0   0]\n",
      " [  0   0   0   0 163 179 200  95 154 198 197 200 200 198 197 198 199 202\n",
      "  200 176  86 206 157 162  10   0   0   0]\n",
      " [  0   0   0   0 197 201 229  71 144 194 181 183 179 182 180 179 180 190\n",
      "  185 197  76 219 185 201  34   0   0   0]\n",
      " [  0   0   0   0 199 193 226  58 154 192 184 187 184 186 184 185 183 192\n",
      "  191 200  56 219 203 207  60   0   0   0]\n",
      " [  0   0   0   0 201 194 224  41 163 190 186 186 184 185 183 185 178 190\n",
      "  194 202  33 211 200 206  73   0   0   0]\n",
      " [  0   0   0   0 201 197 222  17 172 190 186 187 182 186 185 187 180 187\n",
      "  193 202  26 212 202 203  76   0   0   0]\n",
      " [  0   0   0   0 200 197 223   0 177 189 184 185 178 184 183 184 180 183\n",
      "  189 203  35 196 203 203  84   0   0   0]\n",
      " [  0   0   0   0 200 197 223   0 185 187 185 187 180 184 182 183 178 182\n",
      "  183 205  44 159 207 201  85   0   0   0]\n",
      " [  0   0   0   0 187 198 225   0 194 188 184 185 180 183 183 184 181 181\n",
      "  177 206  46 129 211 200  88   0   0   0]\n",
      " [  0   0   0   6 186 200 211   0 199 189 184 184 185 182 183 184 185 182\n",
      "  175 205  50  97 216 197  93   0   0   0]\n",
      " [  0   0   0   5 185 204 184   0 202 188 182 182 183 183 184 182 180 182\n",
      "  174 202  63  59 220 196  94   0   0   0]\n",
      " [  0   0   0   5 184 206 157   0 204 187 187 189 192 190 190 191 190 187\n",
      "  183 202  78  35 222 197  95   0   0   0]\n",
      " [  0   0   0   5 183 208 127   0 197 166 153 149 149 146 148 149 150 151\n",
      "  158 191  90   8 223 195  99   0   0   0]\n",
      " [  0   0   0   6 184 208 114   0 204 173 161 180 176 172 173 173 174 176\n",
      "  162 202 115   0 229 199 105   0   0   0]\n",
      " [  0   0   0   9 178 204 115   0 121 135 114 117 114 114 117 118 119 117\n",
      "  113 147  63   0 225 196 107   0   0   0]\n",
      " [  0   0   0  18 180 206 131   0   0   0   0   0   0   0   0   0   0   0\n",
      "    0   0   0   0 224 197 123   0   0   0]\n",
      " [  0   0   0   0 141 151  76   0   1   1   0   0   0   0   0   0   0   0\n",
      "    0   0   0   0 133 167  73   0   0   0]]\n"
     ]
    }
   ],
   "source": [
    "#pixel values of the train image 5\n",
    "print(train_images[5])"
   ]
  },
  {
   "cell_type": "code",
   "execution_count": 13,
   "metadata": {},
   "outputs": [
    {
     "name": "stdout",
     "output_type": "stream",
     "text": [
      "[[0.         0.         0.         0.         0.00392157 0.\n",
      "  0.         0.         0.         0.08627451 0.34509804 0.7372549\n",
      "  0.6745098  0.51764706 0.49019608 0.55294118 0.78039216 0.56078431\n",
      "  0.03529412 0.         0.         0.         0.00392157 0.\n",
      "  0.         0.         0.         0.        ]\n",
      " [0.         0.         0.         0.00392157 0.         0.\n",
      "  0.07843137 0.51372549 0.78039216 0.80784314 0.76862745 0.79215686\n",
      "  0.94901961 1.         1.         0.98039216 0.87058824 0.77254902\n",
      "  0.80784314 0.7372549  0.49411765 0.06666667 0.         0.\n",
      "  0.         0.         0.         0.        ]\n",
      " [0.         0.         0.         0.00392157 0.         0.1372549\n",
      "  0.83921569 0.74901961 0.71764706 0.69803922 0.68627451 0.65882353\n",
      "  0.58823529 0.63529412 0.62352941 0.59607843 0.61960784 0.70196078\n",
      "  0.71764706 0.74117647 0.76470588 0.7254902  0.32156863 0.\n",
      "  0.         0.         0.         0.        ]\n",
      " [0.         0.         0.         0.         0.         0.66666667\n",
      "  0.74509804 0.6745098  0.69411765 0.69019608 0.67058824 0.6627451\n",
      "  0.63529412 0.60784314 0.58039216 0.60392157 0.6627451  0.68235294\n",
      "  0.68627451 0.68627451 0.69411765 0.71764706 0.7372549  0.04705882\n",
      "  0.         0.         0.         0.        ]\n",
      " [0.         0.         0.         0.         0.09803922 0.76078431\n",
      "  0.70588235 0.69803922 0.68235294 0.72156863 0.73333333 0.74117647\n",
      "  0.73333333 0.72156863 0.70980392 0.74117647 0.78431373 0.77254902\n",
      "  0.75686275 0.74509804 0.69803922 0.68627451 0.76078431 0.35294118\n",
      "  0.         0.         0.         0.        ]\n",
      " [0.         0.         0.         0.         0.16470588 0.85490196\n",
      "  0.74901961 0.77254902 0.81568627 0.8        0.82745098 0.81960784\n",
      "  0.82352941 0.83137255 0.82745098 0.83921569 0.84313725 0.83529412\n",
      "  0.83921569 0.82745098 0.82745098 0.74901961 0.78431373 0.61960784\n",
      "  0.         0.         0.         0.        ]\n",
      " [0.         0.         0.         0.         0.34509804 0.86666667\n",
      "  0.84313725 0.85098039 0.85882353 0.82745098 0.7254902  0.58823529\n",
      "  0.4627451  0.41960784 0.38823529 0.34509804 0.3254902  0.35294118\n",
      "  0.52941176 0.83137255 0.79607843 0.81176471 0.85882353 0.6627451\n",
      "  0.         0.         0.         0.        ]\n",
      " [0.         0.         0.         0.         0.         0.10588235\n",
      "  0.4627451  0.63529412 0.15686275 0.         0.         0.\n",
      "  0.03921569 0.0745098  0.10980392 0.15294118 0.18431373 0.14117647\n",
      "  0.         0.         0.79607843 0.90196078 0.8627451  0.79607843\n",
      "  0.         0.         0.         0.        ]\n",
      " [0.         0.         0.         0.         0.54117647 0.53333333\n",
      "  0.27843137 0.27058824 0.21176471 0.84705882 0.85098039 0.79607843\n",
      "  0.72156863 0.65882353 0.63921569 0.63529412 0.63921569 0.69803922\n",
      "  0.86666667 0.72941176 0.14901961 0.10196078 0.02745098 0.\n",
      "  0.         0.         0.         0.        ]\n",
      " [0.         0.         0.         0.         0.2627451  0.5254902\n",
      "  0.60392157 0.87843137 0.50588235 0.25882353 0.31764706 0.45882353\n",
      "  0.50588235 0.50196078 0.51764706 0.5372549  0.51372549 0.50588235\n",
      "  0.3372549  0.28627451 0.61568627 0.59215686 0.5254902  0.84705882\n",
      "  0.07058824 0.         0.         0.        ]\n",
      " [0.         0.         0.         0.         0.79607843 0.77647059\n",
      "  0.6745098  0.71764706 0.80784314 1.         1.         0.98039216\n",
      "  0.95294118 0.94117647 0.9372549  0.92156863 0.93333333 0.95686275\n",
      "  1.         0.93333333 0.72156863 0.62745098 0.3372549  0.38431373\n",
      "  0.         0.         0.         0.        ]\n",
      " [0.         0.         0.         0.         0.47843137 0.7372549\n",
      "  0.87843137 0.59215686 0.41176471 0.49803922 0.38039216 0.39215686\n",
      "  0.41176471 0.44705882 0.45882353 0.45882353 0.44313725 0.40392157\n",
      "  0.38431373 0.43529412 0.55686275 0.99607843 0.74901961 1.\n",
      "  0.19215686 0.         0.         0.        ]\n",
      " [0.         0.         0.         0.         0.63921569 0.70196078\n",
      "  0.78431373 0.37254902 0.60392157 0.77647059 0.77254902 0.78431373\n",
      "  0.78431373 0.77647059 0.77254902 0.77647059 0.78039216 0.79215686\n",
      "  0.78431373 0.69019608 0.3372549  0.80784314 0.61568627 0.63529412\n",
      "  0.03921569 0.         0.         0.        ]\n",
      " [0.         0.         0.         0.         0.77254902 0.78823529\n",
      "  0.89803922 0.27843137 0.56470588 0.76078431 0.70980392 0.71764706\n",
      "  0.70196078 0.71372549 0.70588235 0.70196078 0.70588235 0.74509804\n",
      "  0.7254902  0.77254902 0.29803922 0.85882353 0.7254902  0.78823529\n",
      "  0.13333333 0.         0.         0.        ]\n",
      " [0.         0.         0.         0.         0.78039216 0.75686275\n",
      "  0.88627451 0.22745098 0.60392157 0.75294118 0.72156863 0.73333333\n",
      "  0.72156863 0.72941176 0.72156863 0.7254902  0.71764706 0.75294118\n",
      "  0.74901961 0.78431373 0.21960784 0.85882353 0.79607843 0.81176471\n",
      "  0.23529412 0.         0.         0.        ]\n",
      " [0.         0.         0.         0.         0.78823529 0.76078431\n",
      "  0.87843137 0.16078431 0.63921569 0.74509804 0.72941176 0.72941176\n",
      "  0.72156863 0.7254902  0.71764706 0.7254902  0.69803922 0.74509804\n",
      "  0.76078431 0.79215686 0.12941176 0.82745098 0.78431373 0.80784314\n",
      "  0.28627451 0.         0.         0.        ]\n",
      " [0.         0.         0.         0.         0.78823529 0.77254902\n",
      "  0.87058824 0.06666667 0.6745098  0.74509804 0.72941176 0.73333333\n",
      "  0.71372549 0.72941176 0.7254902  0.73333333 0.70588235 0.73333333\n",
      "  0.75686275 0.79215686 0.10196078 0.83137255 0.79215686 0.79607843\n",
      "  0.29803922 0.         0.         0.        ]\n",
      " [0.         0.         0.         0.         0.78431373 0.77254902\n",
      "  0.8745098  0.         0.69411765 0.74117647 0.72156863 0.7254902\n",
      "  0.69803922 0.72156863 0.71764706 0.72156863 0.70588235 0.71764706\n",
      "  0.74117647 0.79607843 0.1372549  0.76862745 0.79607843 0.79607843\n",
      "  0.32941176 0.         0.         0.        ]\n",
      " [0.         0.         0.         0.         0.78431373 0.77254902\n",
      "  0.8745098  0.         0.7254902  0.73333333 0.7254902  0.73333333\n",
      "  0.70588235 0.72156863 0.71372549 0.71764706 0.69803922 0.71372549\n",
      "  0.71764706 0.80392157 0.17254902 0.62352941 0.81176471 0.78823529\n",
      "  0.33333333 0.         0.         0.        ]\n",
      " [0.         0.         0.         0.         0.73333333 0.77647059\n",
      "  0.88235294 0.         0.76078431 0.7372549  0.72156863 0.7254902\n",
      "  0.70588235 0.71764706 0.71764706 0.72156863 0.70980392 0.70980392\n",
      "  0.69411765 0.80784314 0.18039216 0.50588235 0.82745098 0.78431373\n",
      "  0.34509804 0.         0.         0.        ]\n",
      " [0.         0.         0.         0.02352941 0.72941176 0.78431373\n",
      "  0.82745098 0.         0.78039216 0.74117647 0.72156863 0.72156863\n",
      "  0.7254902  0.71372549 0.71764706 0.72156863 0.7254902  0.71372549\n",
      "  0.68627451 0.80392157 0.19607843 0.38039216 0.84705882 0.77254902\n",
      "  0.36470588 0.         0.         0.        ]\n",
      " [0.         0.         0.         0.01960784 0.7254902  0.8\n",
      "  0.72156863 0.         0.79215686 0.7372549  0.71372549 0.71372549\n",
      "  0.71764706 0.71764706 0.72156863 0.71372549 0.70588235 0.71372549\n",
      "  0.68235294 0.79215686 0.24705882 0.23137255 0.8627451  0.76862745\n",
      "  0.36862745 0.         0.         0.        ]\n",
      " [0.         0.         0.         0.01960784 0.72156863 0.80784314\n",
      "  0.61568627 0.         0.8        0.73333333 0.73333333 0.74117647\n",
      "  0.75294118 0.74509804 0.74509804 0.74901961 0.74509804 0.73333333\n",
      "  0.71764706 0.79215686 0.30588235 0.1372549  0.87058824 0.77254902\n",
      "  0.37254902 0.         0.         0.        ]\n",
      " [0.         0.         0.         0.01960784 0.71764706 0.81568627\n",
      "  0.49803922 0.         0.77254902 0.65098039 0.6        0.58431373\n",
      "  0.58431373 0.57254902 0.58039216 0.58431373 0.58823529 0.59215686\n",
      "  0.61960784 0.74901961 0.35294118 0.03137255 0.8745098  0.76470588\n",
      "  0.38823529 0.         0.         0.        ]\n",
      " [0.         0.         0.         0.02352941 0.72156863 0.81568627\n",
      "  0.44705882 0.         0.8        0.67843137 0.63137255 0.70588235\n",
      "  0.69019608 0.6745098  0.67843137 0.67843137 0.68235294 0.69019608\n",
      "  0.63529412 0.79215686 0.45098039 0.         0.89803922 0.78039216\n",
      "  0.41176471 0.         0.         0.        ]\n",
      " [0.         0.         0.         0.03529412 0.69803922 0.8\n",
      "  0.45098039 0.         0.4745098  0.52941176 0.44705882 0.45882353\n",
      "  0.44705882 0.44705882 0.45882353 0.4627451  0.46666667 0.45882353\n",
      "  0.44313725 0.57647059 0.24705882 0.         0.88235294 0.76862745\n",
      "  0.41960784 0.         0.         0.        ]\n",
      " [0.         0.         0.         0.07058824 0.70588235 0.80784314\n",
      "  0.51372549 0.         0.         0.         0.         0.\n",
      "  0.         0.         0.         0.         0.         0.\n",
      "  0.         0.         0.         0.         0.87843137 0.77254902\n",
      "  0.48235294 0.         0.         0.        ]\n",
      " [0.         0.         0.         0.         0.55294118 0.59215686\n",
      "  0.29803922 0.         0.00392157 0.00392157 0.         0.\n",
      "  0.         0.         0.         0.         0.         0.\n",
      "  0.         0.         0.         0.         0.52156863 0.65490196\n",
      "  0.28627451 0.         0.         0.        ]]\n"
     ]
    }
   ],
   "source": [
    "#to make the pixel level within 0 and 1\n",
    "train_images=train_images/255\n",
    "test_images=test_images/255\n",
    "print(train_images[5])"
   ]
  },
  {
   "cell_type": "code",
   "execution_count": null,
   "metadata": {},
   "outputs": [],
   "source": []
  }
 ],
 "metadata": {
  "kernelspec": {
   "display_name": "Python 3.6 (tensorflow)",
   "language": "python",
   "name": "tensorflow"
  },
  "language_info": {
   "codemirror_mode": {
    "name": "ipython",
    "version": 3
   },
   "file_extension": ".py",
   "mimetype": "text/x-python",
   "name": "python",
   "nbconvert_exporter": "python",
   "pygments_lexer": "ipython3",
   "version": "3.6.8"
  }
 },
 "nbformat": 4,
 "nbformat_minor": 2
}
